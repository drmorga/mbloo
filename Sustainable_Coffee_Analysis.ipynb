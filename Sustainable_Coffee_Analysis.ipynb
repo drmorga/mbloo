{
 "cells": [
  {
   "cell_type": "markdown",
   "id": "88dc903d",
   "metadata": {},
   "source": [
    "\n",
    "# ☕ Sustainable Coffee Market Analysis\n",
    "\n",
    "**Objective:**  \n",
    "Explore global trends in sustainable/organic coffee consumption, pricing, and public interest using publicly available datasets.\n",
    "\n",
    "**Key Questions:**  \n",
    "- Where is demand for sustainable coffee growing?\n",
    "- What are the price and consumption trends?\n",
    "- How do people talk about coffee on the internet?\n"
   ]
  },
  {
   "cell_type": "code",
   "execution_count": null,
   "id": "8b29d18e",
   "metadata": {},
   "outputs": [],
   "source": [
    "\n",
    "import pandas as pd\n",
    "import numpy as np\n",
    "import matplotlib.pyplot as plt\n",
    "import seaborn as sns\n",
    "import plotly.express as px\n",
    "import warnings\n",
    "warnings.filterwarnings('ignore')\n"
   ]
  },
  {
   "cell_type": "code",
   "execution_count": null,
   "id": "1aad43ce",
   "metadata": {},
   "outputs": [],
   "source": [
    "\n",
    "# Replace with your actual file path\n",
    "df = pd.read_csv(\"sustainable_coffee.csv\")\n",
    "\n",
    "# Quick overview\n",
    "df.head()\n"
   ]
  },
  {
   "cell_type": "code",
   "execution_count": null,
   "id": "ba6a81cd",
   "metadata": {},
   "outputs": [],
   "source": [
    "\n",
    "# Clean column names\n",
    "df.columns = df.columns.str.lower().str.replace(\" \", \"_\")\n",
    "\n",
    "# Drop missing values\n",
    "df = df.dropna()\n",
    "\n",
    "# Convert year to datetime\n",
    "if 'year' in df.columns:\n",
    "    df['year'] = pd.to_datetime(df['year'], errors='coerce')\n"
   ]
  },
  {
   "cell_type": "code",
   "execution_count": null,
   "id": "4bc8e42d",
   "metadata": {},
   "outputs": [],
   "source": [
    "\n",
    "# Example trend by country\n",
    "plt.figure(figsize=(12, 6))\n",
    "sns.lineplot(data=df, x='year', y='consumption', hue='country')\n",
    "plt.title('Sustainable Coffee Consumption Over Time')\n",
    "plt.xticks(rotation=45)\n",
    "plt.tight_layout()\n",
    "plt.show()\n"
   ]
  },
  {
   "cell_type": "code",
   "execution_count": null,
   "id": "753949e8",
   "metadata": {},
   "outputs": [],
   "source": [
    "\n",
    "top_countries = df.groupby('country')['consumption'].mean().sort_values(ascending=False).head(10)\n",
    "top_countries.plot(kind='barh', title='Top Countries by Avg Sustainable Coffee Consumption', figsize=(8,5))\n",
    "plt.xlabel(\"Average Consumption\")\n",
    "plt.show()\n"
   ]
  },
  {
   "cell_type": "code",
   "execution_count": null,
   "id": "83e6bb98",
   "metadata": {},
   "outputs": [],
   "source": [
    "\n",
    "fig = px.line(df, x=\"year\", y=\"consumption\", color=\"country\", title=\"Yearly Sustainable Coffee Consumption\")\n",
    "fig.show()\n"
   ]
  },
  {
   "cell_type": "code",
   "execution_count": null,
   "id": "44e74f7c",
   "metadata": {},
   "outputs": [],
   "source": [
    "\n",
    "# !pip install prophet\n",
    "# from prophet import Prophet\n",
    "\n",
    "# prophet_df = df[['year', 'consumption']].rename(columns={'year': 'ds', 'consumption': 'y'}).dropna()\n",
    "# model = Prophet()\n",
    "# model.fit(prophet_df)\n",
    "# future = model.make_future_dataframe(periods=12, freq='M')\n",
    "# forecast = model.predict(future)\n",
    "# model.plot(forecast)\n"
   ]
  },
  {
   "cell_type": "markdown",
   "id": "118bda90",
   "metadata": {},
   "source": [
    "\n",
    "## ✅ Conclusion\n",
    "\n",
    "- Sustainable coffee demand is increasing in several regions.\n",
    "- Key countries show spikes in consumption aligned with economic factors.\n",
    "- You can build on this project with sentiment analysis or social data integration.\n",
    "\n",
    "You can now upload this notebook to your GitHub repo under `products/`.\n"
   ]
  }
 ],
 "metadata": {},
 "nbformat": 4,
 "nbformat_minor": 5
}
